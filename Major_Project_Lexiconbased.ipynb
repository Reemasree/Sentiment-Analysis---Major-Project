{
  "nbformat": 4,
  "nbformat_minor": 0,
  "metadata": {
    "colab": {
      "name": "Major_Project_Lexicon.ipynb",
      "provenance": [],
      "collapsed_sections": [],
      "authorship_tag": "ABX9TyMFjYXXtLONc/BBzlyboaRr",
      "include_colab_link": true
    },
    "kernelspec": {
      "name": "python3",
      "display_name": "Python 3"
    }
  },
  "cells": [
    {
      "cell_type": "markdown",
      "metadata": {
        "id": "view-in-github",
        "colab_type": "text"
      },
      "source": [
        "<a href=\"https://colab.research.google.com/github/Reemasree/Sentiment-Analysis---Major-Project/blob/main/Major_Project_Lexiconbased.ipynb\" target=\"_parent\"><img src=\"https://colab.research.google.com/assets/colab-badge.svg\" alt=\"Open In Colab\"/></a>"
      ]
    },
    {
      "cell_type": "markdown",
      "metadata": {
        "id": "qv67KmRqWfSk"
      },
      "source": [
        "** SENTIMENT ANALYSIS USING PYTHON- LEXICON BASED APPROACH (VADER SENTIMENT)**"
      ]
    },
    {
      "cell_type": "code",
      "metadata": {
        "colab": {
          "base_uri": "https://localhost:8080/"
        },
        "id": "Tm_u9l2OOW65",
        "outputId": "d5bf01d4-a97a-4c9e-c405-1ff2ba3cb621"
      },
      "source": [
        "!pip install vaderSentiment"
      ],
      "execution_count": null,
      "outputs": [
        {
          "output_type": "stream",
          "text": [
            "Requirement already satisfied: vaderSentiment in /usr/local/lib/python3.7/dist-packages (3.3.2)\n",
            "Requirement already satisfied: requests in /usr/local/lib/python3.7/dist-packages (from vaderSentiment) (2.23.0)\n",
            "Requirement already satisfied: idna<3,>=2.5 in /usr/local/lib/python3.7/dist-packages (from requests->vaderSentiment) (2.10)\n",
            "Requirement already satisfied: urllib3!=1.25.0,!=1.25.1,<1.26,>=1.21.1 in /usr/local/lib/python3.7/dist-packages (from requests->vaderSentiment) (1.24.3)\n",
            "Requirement already satisfied: chardet<4,>=3.0.2 in /usr/local/lib/python3.7/dist-packages (from requests->vaderSentiment) (3.0.4)\n",
            "Requirement already satisfied: certifi>=2017.4.17 in /usr/local/lib/python3.7/dist-packages (from requests->vaderSentiment) (2020.12.5)\n"
          ],
          "name": "stdout"
        }
      ]
    },
    {
      "cell_type": "code",
      "metadata": {
        "id": "mvbxEb-JWvnZ"
      },
      "source": [
        "from vaderSentiment.vaderSentiment import SentimentIntensityAnalyzer\r\n",
        "vs = SentimentIntensityAnalyzer()"
      ],
      "execution_count": null,
      "outputs": []
    },
    {
      "cell_type": "code",
      "metadata": {
        "colab": {
          "base_uri": "https://localhost:8080/"
        },
        "id": "N6RtscuvXE-E",
        "outputId": "e2cf48ba-e449-4a27-e11d-3ae44752bdf3"
      },
      "source": [
        "text = \"The product is good except batter\"\r\n",
        "vs.polarity_scores(text)"
      ],
      "execution_count": null,
      "outputs": [
        {
          "output_type": "execute_result",
          "data": {
            "text/plain": [
              "{'compound': 0.4404, 'neg': 0.0, 'neu': 0.633, 'pos': 0.367}"
            ]
          },
          "metadata": {
            "tags": []
          },
          "execution_count": 207
        }
      ]
    },
    {
      "cell_type": "code",
      "metadata": {
        "id": "ERziUlcfXS5o"
      },
      "source": [
        "#  WEB SCRAPING\r\n",
        "import requests\r\n",
        "from bs4 import BeautifulSoup\r\n",
        "import pandas as pd\r\n",
        "import numpy as np\r\n",
        "import os"
      ],
      "execution_count": null,
      "outputs": []
    },
    {
      "cell_type": "code",
      "metadata": {
        "id": "2qlF_F4VjziV"
      },
      "source": [
        "urls = ['https://inshorts.com/en/read/politics','https://inshorts.com/en/read/business','https://inshorts.com/en/read/world']\r\n",
        "\r\n",
        "def build_dataframe(urls):\r\n",
        "  news_data = []\r\n",
        "  for url in urls:\r\n",
        "    news_category = url.split('/')[-1]   # to get the last category in the url\r\n",
        "    data = requests.get(url)\r\n",
        "    soup = BeautifulSoup(data.content)\r\n",
        "\r\n",
        "    news_articles = [{'news_headline': headline.find('span',attrs={\"itemprop\":\"headline\"}).string,  # to know the headlin\r\n",
        "                      'news_article': article.find('div',attrs={\"itemprop\":\"articleBody\"}).string, #to know the entire paragraph\r\n",
        "                      'news_category': news_category}\r\n",
        "\r\n",
        "                      for headline,article in zip(soup.find_all('div',class_=[\"news-card-title news-right-box\"]),\r\n",
        "                                                  soup.find_all('div',class_=[\"news-card-content news-right-box\"]))]\r\n",
        "\r\n",
        "    news_articles = news_articles[0:30]\r\n",
        "    news_data.extend(news_articles)\r\n",
        "  df=pd.DataFrame(news_data)\r\n",
        "  df =df[['news_headline','news_article','news_category']]\r\n",
        "  return df"
      ],
      "execution_count": null,
      "outputs": []
    },
    {
      "cell_type": "code",
      "metadata": {
        "colab": {
          "base_uri": "https://localhost:8080/",
          "height": 402
        },
        "id": "dI2Re8i0q7l4",
        "outputId": "88520bce-af4c-4799-9563-3ba6b520b5d1"
      },
      "source": [
        "df = build_dataframe(urls)\r\n",
        "df"
      ],
      "execution_count": null,
      "outputs": [
        {
          "output_type": "execute_result",
          "data": {
            "text/html": [
              "<div>\n",
              "<style scoped>\n",
              "    .dataframe tbody tr th:only-of-type {\n",
              "        vertical-align: middle;\n",
              "    }\n",
              "\n",
              "    .dataframe tbody tr th {\n",
              "        vertical-align: top;\n",
              "    }\n",
              "\n",
              "    .dataframe thead th {\n",
              "        text-align: right;\n",
              "    }\n",
              "</style>\n",
              "<table border=\"1\" class=\"dataframe\">\n",
              "  <thead>\n",
              "    <tr style=\"text-align: right;\">\n",
              "      <th></th>\n",
              "      <th>news_headline</th>\n",
              "      <th>news_article</th>\n",
              "      <th>news_category</th>\n",
              "    </tr>\n",
              "  </thead>\n",
              "  <tbody>\n",
              "    <tr>\n",
              "      <th>0</th>\n",
              "      <td>Assam CM to contest polls from Majuli; Himanta...</td>\n",
              "      <td>The BJP on Friday released a list of 70 candid...</td>\n",
              "      <td>politics</td>\n",
              "    </tr>\n",
              "    <tr>\n",
              "      <th>1</th>\n",
              "      <td>BJP names ex-Bengal minister Suvendu as Nandig...</td>\n",
              "      <td>Former West Bengal minister and TMC leader Suv...</td>\n",
              "      <td>politics</td>\n",
              "    </tr>\n",
              "    <tr>\n",
              "      <th>2</th>\n",
              "      <td>TMC leader denied poll ticket; his supporters ...</td>\n",
              "      <td>Supporters of Trinamool Congress (TMC) leader ...</td>\n",
              "      <td>politics</td>\n",
              "    </tr>\n",
              "    <tr>\n",
              "      <th>3</th>\n",
              "      <td>Former TMC MP Dinesh Trivedi joins BJP ahead o...</td>\n",
              "      <td>Former Railway Minister Dinesh Trivedi, who ha...</td>\n",
              "      <td>politics</td>\n",
              "    </tr>\n",
              "    <tr>\n",
              "      <th>4</th>\n",
              "      <td>AIADMK allots 20 Tamil Nadu Assembly seats, Ka...</td>\n",
              "      <td>Tamil Nadu's ruling party, the All India Anna ...</td>\n",
              "      <td>politics</td>\n",
              "    </tr>\n",
              "    <tr>\n",
              "      <th>...</th>\n",
              "      <td>...</td>\n",
              "      <td>...</td>\n",
              "      <td>...</td>\n",
              "    </tr>\n",
              "    <tr>\n",
              "      <th>70</th>\n",
              "      <td>Treasury yields signal recovery, not inflation...</td>\n",
              "      <td>US Treasury Secretary and former Fed chair Jan...</td>\n",
              "      <td>world</td>\n",
              "    </tr>\n",
              "    <tr>\n",
              "      <th>71</th>\n",
              "      <td>We don’t take advice from Trump on immigration...</td>\n",
              "      <td>Defending US President Joe Biden's administrat...</td>\n",
              "      <td>world</td>\n",
              "    </tr>\n",
              "    <tr>\n",
              "      <th>72</th>\n",
              "      <td>Being a royal is different than what people im...</td>\n",
              "      <td>Britain's Duchess of Sussex, Meghan Markle, ha...</td>\n",
              "      <td>world</td>\n",
              "    </tr>\n",
              "    <tr>\n",
              "      <th>73</th>\n",
              "      <td>Aus broadcaster suspends China's CGTN, CCTV ov...</td>\n",
              "      <td>Australia's public broadcaster SBS said it wou...</td>\n",
              "      <td>world</td>\n",
              "    </tr>\n",
              "    <tr>\n",
              "      <th>74</th>\n",
              "      <td>Direct attack on democracy: US on China's move...</td>\n",
              "      <td>US has condemned China's \"continuing assault o...</td>\n",
              "      <td>world</td>\n",
              "    </tr>\n",
              "  </tbody>\n",
              "</table>\n",
              "<p>75 rows × 3 columns</p>\n",
              "</div>"
            ],
            "text/plain": [
              "                                        news_headline  ... news_category\n",
              "0   Assam CM to contest polls from Majuli; Himanta...  ...      politics\n",
              "1   BJP names ex-Bengal minister Suvendu as Nandig...  ...      politics\n",
              "2   TMC leader denied poll ticket; his supporters ...  ...      politics\n",
              "3   Former TMC MP Dinesh Trivedi joins BJP ahead o...  ...      politics\n",
              "4   AIADMK allots 20 Tamil Nadu Assembly seats, Ka...  ...      politics\n",
              "..                                                ...  ...           ...\n",
              "70  Treasury yields signal recovery, not inflation...  ...         world\n",
              "71  We don’t take advice from Trump on immigration...  ...         world\n",
              "72  Being a royal is different than what people im...  ...         world\n",
              "73  Aus broadcaster suspends China's CGTN, CCTV ov...  ...         world\n",
              "74  Direct attack on democracy: US on China's move...  ...         world\n",
              "\n",
              "[75 rows x 3 columns]"
            ]
          },
          "metadata": {
            "tags": []
          },
          "execution_count": 210
        }
      ]
    },
    {
      "cell_type": "code",
      "metadata": {
        "id": "FljG4UJ1rPle"
      },
      "source": [
        "\r\n",
        "#saving the dataset for future reference\r\n",
        "df.to_csv('news.csv',index=False)"
      ],
      "execution_count": null,
      "outputs": []
    },
    {
      "cell_type": "markdown",
      "metadata": {
        "id": "3ya0dX7d9Z4k"
      },
      "source": [
        "PREPROCESSING \r\n"
      ]
    },
    {
      "cell_type": "code",
      "metadata": {
        "id": "7PxWs6oksk2r"
      },
      "source": [
        "# Dealing with punctuation and numbers\r\n",
        "import re\r\n",
        "def remove_sp(text):\r\n",
        "  pattern = r'[^A-Za-z \\s]'\r\n",
        "  text = re.sub(pattern,'',text)\r\n",
        "  return text\r\n"
      ],
      "execution_count": null,
      "outputs": []
    },
    {
      "cell_type": "code",
      "metadata": {
        "colab": {
          "base_uri": "https://localhost:8080/"
        },
        "id": "Iq7fp2jN_pmB",
        "outputId": "709d1875-3886-4ba5-ef09-4355a0381041"
      },
      "source": [
        "# Tokenization and removing stop words\r\n",
        "import nltk\r\n",
        "nltk.download('stopwords')\r\n",
        "stopword_list = nltk.corpus.stopwords.words('english')\r\n",
        "stopword_list.remove('no')\r\n",
        "stopword_list.remove('not')\r\n",
        "\r\n",
        "from nltk.tokenize.toktok import ToktokTokenizer\r\n",
        "tokenizer = ToktokTokenizer()\r\n"
      ],
      "execution_count": null,
      "outputs": [
        {
          "output_type": "stream",
          "text": [
            "[nltk_data] Downloading package stopwords to /root/nltk_data...\n",
            "[nltk_data]   Package stopwords is already up-to-date!\n"
          ],
          "name": "stdout"
        }
      ]
    },
    {
      "cell_type": "code",
      "metadata": {
        "id": "NvHrLCrYECvG"
      },
      "source": [
        "\r\n",
        "def remove_stopwords(text):\r\n",
        "  tokens = tokenizer.tokenize(text)\r\n",
        "  tokens = [token.strip() for token in tokens]\r\n",
        "  filtered_tokens = [token for token in tokens if token not in stopword_list]\r\n",
        "  filtered_text = ' '.join(filtered_tokens)\r\n",
        "\r\n",
        "  return filtered_text\r\n"
      ],
      "execution_count": null,
      "outputs": []
    },
    {
      "cell_type": "code",
      "metadata": {
        "colab": {
          "base_uri": "https://localhost:8080/",
          "height": 402
        },
        "id": "GKSs41VaNSLa",
        "outputId": "35c7ce1c-b630-4da5-9ed2-e7fc80b63ba9"
      },
      "source": [
        "df"
      ],
      "execution_count": null,
      "outputs": [
        {
          "output_type": "execute_result",
          "data": {
            "text/html": [
              "<div>\n",
              "<style scoped>\n",
              "    .dataframe tbody tr th:only-of-type {\n",
              "        vertical-align: middle;\n",
              "    }\n",
              "\n",
              "    .dataframe tbody tr th {\n",
              "        vertical-align: top;\n",
              "    }\n",
              "\n",
              "    .dataframe thead th {\n",
              "        text-align: right;\n",
              "    }\n",
              "</style>\n",
              "<table border=\"1\" class=\"dataframe\">\n",
              "  <thead>\n",
              "    <tr style=\"text-align: right;\">\n",
              "      <th></th>\n",
              "      <th>news_headline</th>\n",
              "      <th>news_article</th>\n",
              "      <th>news_category</th>\n",
              "    </tr>\n",
              "  </thead>\n",
              "  <tbody>\n",
              "    <tr>\n",
              "      <th>0</th>\n",
              "      <td>Assam CM to contest polls from Majuli; Himanta...</td>\n",
              "      <td>The BJP on Friday released a list of 70 candid...</td>\n",
              "      <td>politics</td>\n",
              "    </tr>\n",
              "    <tr>\n",
              "      <th>1</th>\n",
              "      <td>BJP names ex-Bengal minister Suvendu as Nandig...</td>\n",
              "      <td>Former West Bengal minister and TMC leader Suv...</td>\n",
              "      <td>politics</td>\n",
              "    </tr>\n",
              "    <tr>\n",
              "      <th>2</th>\n",
              "      <td>TMC leader denied poll ticket; his supporters ...</td>\n",
              "      <td>Supporters of Trinamool Congress (TMC) leader ...</td>\n",
              "      <td>politics</td>\n",
              "    </tr>\n",
              "    <tr>\n",
              "      <th>3</th>\n",
              "      <td>Former TMC MP Dinesh Trivedi joins BJP ahead o...</td>\n",
              "      <td>Former Railway Minister Dinesh Trivedi, who ha...</td>\n",
              "      <td>politics</td>\n",
              "    </tr>\n",
              "    <tr>\n",
              "      <th>4</th>\n",
              "      <td>AIADMK allots 20 Tamil Nadu Assembly seats, Ka...</td>\n",
              "      <td>Tamil Nadu's ruling party, the All India Anna ...</td>\n",
              "      <td>politics</td>\n",
              "    </tr>\n",
              "    <tr>\n",
              "      <th>...</th>\n",
              "      <td>...</td>\n",
              "      <td>...</td>\n",
              "      <td>...</td>\n",
              "    </tr>\n",
              "    <tr>\n",
              "      <th>70</th>\n",
              "      <td>Treasury yields signal recovery, not inflation...</td>\n",
              "      <td>US Treasury Secretary and former Fed chair Jan...</td>\n",
              "      <td>world</td>\n",
              "    </tr>\n",
              "    <tr>\n",
              "      <th>71</th>\n",
              "      <td>We don’t take advice from Trump on immigration...</td>\n",
              "      <td>Defending US President Joe Biden's administrat...</td>\n",
              "      <td>world</td>\n",
              "    </tr>\n",
              "    <tr>\n",
              "      <th>72</th>\n",
              "      <td>Being a royal is different than what people im...</td>\n",
              "      <td>Britain's Duchess of Sussex, Meghan Markle, ha...</td>\n",
              "      <td>world</td>\n",
              "    </tr>\n",
              "    <tr>\n",
              "      <th>73</th>\n",
              "      <td>Aus broadcaster suspends China's CGTN, CCTV ov...</td>\n",
              "      <td>Australia's public broadcaster SBS said it wou...</td>\n",
              "      <td>world</td>\n",
              "    </tr>\n",
              "    <tr>\n",
              "      <th>74</th>\n",
              "      <td>Direct attack on democracy: US on China's move...</td>\n",
              "      <td>US has condemned China's \"continuing assault o...</td>\n",
              "      <td>world</td>\n",
              "    </tr>\n",
              "  </tbody>\n",
              "</table>\n",
              "<p>75 rows × 3 columns</p>\n",
              "</div>"
            ],
            "text/plain": [
              "                                        news_headline  ... news_category\n",
              "0   Assam CM to contest polls from Majuli; Himanta...  ...      politics\n",
              "1   BJP names ex-Bengal minister Suvendu as Nandig...  ...      politics\n",
              "2   TMC leader denied poll ticket; his supporters ...  ...      politics\n",
              "3   Former TMC MP Dinesh Trivedi joins BJP ahead o...  ...      politics\n",
              "4   AIADMK allots 20 Tamil Nadu Assembly seats, Ka...  ...      politics\n",
              "..                                                ...  ...           ...\n",
              "70  Treasury yields signal recovery, not inflation...  ...         world\n",
              "71  We don’t take advice from Trump on immigration...  ...         world\n",
              "72  Being a royal is different than what people im...  ...         world\n",
              "73  Aus broadcaster suspends China's CGTN, CCTV ov...  ...         world\n",
              "74  Direct attack on democracy: US on China's move...  ...         world\n",
              "\n",
              "[75 rows x 3 columns]"
            ]
          },
          "metadata": {
            "tags": []
          },
          "execution_count": 215
        }
      ]
    },
    {
      "cell_type": "code",
      "metadata": {
        "colab": {
          "base_uri": "https://localhost:8080/",
          "height": 637
        },
        "id": "hXggEfaCUZbF",
        "outputId": "13c4ddb9-58d6-410b-822d-0365f7eeb282"
      },
      "source": [
        "#converting to lower case\r\n",
        "df.news_article = df.news_article.apply(lambda x: x.lower())\r\n",
        "df.news_headline = df.news_headline.apply(lambda x: x.lower())\r\n",
        "\r\n",
        "#removing punctuation and numbers\r\n",
        "df.news_article = df.news_article.apply(remove_sp)\r\n",
        "df.news_headline = df.news_headline.apply(remove_sp)\r\n",
        "print(df)\r\n",
        "#tokenization\r\n",
        "df.news_article = df.news_article.apply(remove_stopwords)\r\n",
        "df.news_headline = df.news_headline.apply(remove_stopwords)\r\n",
        "df"
      ],
      "execution_count": null,
      "outputs": [
        {
          "output_type": "stream",
          "text": [
            "                                        news_headline  ... news_category\n",
            "0   assam cm to contest polls from majuli himanta ...  ...      politics\n",
            "1   bjp names exbengal minister suvendu as nandigr...  ...      politics\n",
            "2   tmc leader denied poll ticket his supporters t...  ...      politics\n",
            "3   former tmc mp dinesh trivedi joins bjp ahead o...  ...      politics\n",
            "4   aiadmk allots  tamil nadu assembly seats kanya...  ...      politics\n",
            "..                                                ...  ...           ...\n",
            "70  treasury yields signal recovery not inflation ...  ...         world\n",
            "71  we dont take advice from trump on immigration ...  ...         world\n",
            "72  being a royal is different than what people im...  ...         world\n",
            "73  aus broadcaster suspends chinas cgtn cctv over...  ...         world\n",
            "74  direct attack on democracy us on chinas move t...  ...         world\n",
            "\n",
            "[75 rows x 3 columns]\n"
          ],
          "name": "stdout"
        },
        {
          "output_type": "execute_result",
          "data": {
            "text/html": [
              "<div>\n",
              "<style scoped>\n",
              "    .dataframe tbody tr th:only-of-type {\n",
              "        vertical-align: middle;\n",
              "    }\n",
              "\n",
              "    .dataframe tbody tr th {\n",
              "        vertical-align: top;\n",
              "    }\n",
              "\n",
              "    .dataframe thead th {\n",
              "        text-align: right;\n",
              "    }\n",
              "</style>\n",
              "<table border=\"1\" class=\"dataframe\">\n",
              "  <thead>\n",
              "    <tr style=\"text-align: right;\">\n",
              "      <th></th>\n",
              "      <th>news_headline</th>\n",
              "      <th>news_article</th>\n",
              "      <th>news_category</th>\n",
              "    </tr>\n",
              "  </thead>\n",
              "  <tbody>\n",
              "    <tr>\n",
              "      <th>0</th>\n",
              "      <td>assam cm contest polls majuli himanta biswa fi...</td>\n",
              "      <td>bjp friday released list candidates upcoming t...</td>\n",
              "      <td>politics</td>\n",
              "    </tr>\n",
              "    <tr>\n",
              "      <th>1</th>\n",
              "      <td>bjp names exbengal minister suvendu nandigram ...</td>\n",
              "      <td>former west bengal minister tmc leader suvendu...</td>\n",
              "      <td>politics</td>\n",
              "    </tr>\n",
              "    <tr>\n",
              "      <th>2</th>\n",
              "      <td>tmc leader denied poll ticket supporters torch...</td>\n",
              "      <td>supporters trinamool congress tmc leader arabu...</td>\n",
              "      <td>politics</td>\n",
              "    </tr>\n",
              "    <tr>\n",
              "      <th>3</th>\n",
              "      <td>former tmc mp dinesh trivedi joins bjp ahead w...</td>\n",
              "      <td>former railway minister dinesh trivedi resigne...</td>\n",
              "      <td>politics</td>\n",
              "    </tr>\n",
              "    <tr>\n",
              "      <th>4</th>\n",
              "      <td>aiadmk allots tamil nadu assembly seats kanyak...</td>\n",
              "      <td>tamil nadus ruling party india anna dravida mu...</td>\n",
              "      <td>politics</td>\n",
              "    </tr>\n",
              "    <tr>\n",
              "      <th>...</th>\n",
              "      <td>...</td>\n",
              "      <td>...</td>\n",
              "      <td>...</td>\n",
              "    </tr>\n",
              "    <tr>\n",
              "      <th>70</th>\n",
              "      <td>treasury yields signal recovery not inflation ...</td>\n",
              "      <td>us treasury secretary former fed chair janet y...</td>\n",
              "      <td>world</td>\n",
              "    </tr>\n",
              "    <tr>\n",
              "      <th>71</th>\n",
              "      <td>dont take advice trump immigration policy whit...</td>\n",
              "      <td>defending us president joe bidens administrati...</td>\n",
              "      <td>world</td>\n",
              "    </tr>\n",
              "    <tr>\n",
              "      <th>72</th>\n",
              "      <td>royal different people imagine meghan</td>\n",
              "      <td>britains duchess sussex meghan markle said roy...</td>\n",
              "      <td>world</td>\n",
              "    </tr>\n",
              "    <tr>\n",
              "      <th>73</th>\n",
              "      <td>aus broadcaster suspends chinas cgtn cctv huma...</td>\n",
              "      <td>australias public broadcaster sbs said wouldnt...</td>\n",
              "      <td>world</td>\n",
              "    </tr>\n",
              "    <tr>\n",
              "      <th>74</th>\n",
              "      <td>direct attack democracy us chinas move alter h...</td>\n",
              "      <td>us condemned chinas continuing assault democra...</td>\n",
              "      <td>world</td>\n",
              "    </tr>\n",
              "  </tbody>\n",
              "</table>\n",
              "<p>75 rows × 3 columns</p>\n",
              "</div>"
            ],
            "text/plain": [
              "                                        news_headline  ... news_category\n",
              "0   assam cm contest polls majuli himanta biswa fi...  ...      politics\n",
              "1   bjp names exbengal minister suvendu nandigram ...  ...      politics\n",
              "2   tmc leader denied poll ticket supporters torch...  ...      politics\n",
              "3   former tmc mp dinesh trivedi joins bjp ahead w...  ...      politics\n",
              "4   aiadmk allots tamil nadu assembly seats kanyak...  ...      politics\n",
              "..                                                ...  ...           ...\n",
              "70  treasury yields signal recovery not inflation ...  ...         world\n",
              "71  dont take advice trump immigration policy whit...  ...         world\n",
              "72              royal different people imagine meghan  ...         world\n",
              "73  aus broadcaster suspends chinas cgtn cctv huma...  ...         world\n",
              "74  direct attack democracy us chinas move alter h...  ...         world\n",
              "\n",
              "[75 rows x 3 columns]"
            ]
          },
          "metadata": {
            "tags": []
          },
          "execution_count": 216
        }
      ]
    },
    {
      "cell_type": "code",
      "metadata": {
        "colab": {
          "base_uri": "https://localhost:8080/",
          "height": 402
        },
        "id": "f4uJPP5RUW1S",
        "outputId": "35402406-7635-4561-876d-38791c2ad3fd"
      },
      "source": [
        "#stemming and lemmetization\r\n",
        "from nltk.stem import PorterStemmer\r\n",
        "ps = PorterStemmer()\r\n",
        "\r\n",
        "def stemming(tokenized_text):\r\n",
        "  text = [ps.stem(tokenized_text) for word in tokenized_text]\r\n",
        "  new_text = ' '.join(text)\r\n",
        "  return new_text\r\n",
        "df\r\n"
      ],
      "execution_count": null,
      "outputs": [
        {
          "output_type": "execute_result",
          "data": {
            "text/html": [
              "<div>\n",
              "<style scoped>\n",
              "    .dataframe tbody tr th:only-of-type {\n",
              "        vertical-align: middle;\n",
              "    }\n",
              "\n",
              "    .dataframe tbody tr th {\n",
              "        vertical-align: top;\n",
              "    }\n",
              "\n",
              "    .dataframe thead th {\n",
              "        text-align: right;\n",
              "    }\n",
              "</style>\n",
              "<table border=\"1\" class=\"dataframe\">\n",
              "  <thead>\n",
              "    <tr style=\"text-align: right;\">\n",
              "      <th></th>\n",
              "      <th>news_headline</th>\n",
              "      <th>news_article</th>\n",
              "      <th>news_category</th>\n",
              "    </tr>\n",
              "  </thead>\n",
              "  <tbody>\n",
              "    <tr>\n",
              "      <th>0</th>\n",
              "      <td>assam cm contest polls majuli himanta biswa fi...</td>\n",
              "      <td>bjp friday released list candidates upcoming t...</td>\n",
              "      <td>politics</td>\n",
              "    </tr>\n",
              "    <tr>\n",
              "      <th>1</th>\n",
              "      <td>bjp names exbengal minister suvendu nandigram ...</td>\n",
              "      <td>former west bengal minister tmc leader suvendu...</td>\n",
              "      <td>politics</td>\n",
              "    </tr>\n",
              "    <tr>\n",
              "      <th>2</th>\n",
              "      <td>tmc leader denied poll ticket supporters torch...</td>\n",
              "      <td>supporters trinamool congress tmc leader arabu...</td>\n",
              "      <td>politics</td>\n",
              "    </tr>\n",
              "    <tr>\n",
              "      <th>3</th>\n",
              "      <td>former tmc mp dinesh trivedi joins bjp ahead w...</td>\n",
              "      <td>former railway minister dinesh trivedi resigne...</td>\n",
              "      <td>politics</td>\n",
              "    </tr>\n",
              "    <tr>\n",
              "      <th>4</th>\n",
              "      <td>aiadmk allots tamil nadu assembly seats kanyak...</td>\n",
              "      <td>tamil nadus ruling party india anna dravida mu...</td>\n",
              "      <td>politics</td>\n",
              "    </tr>\n",
              "    <tr>\n",
              "      <th>...</th>\n",
              "      <td>...</td>\n",
              "      <td>...</td>\n",
              "      <td>...</td>\n",
              "    </tr>\n",
              "    <tr>\n",
              "      <th>70</th>\n",
              "      <td>treasury yields signal recovery not inflation ...</td>\n",
              "      <td>us treasury secretary former fed chair janet y...</td>\n",
              "      <td>world</td>\n",
              "    </tr>\n",
              "    <tr>\n",
              "      <th>71</th>\n",
              "      <td>dont take advice trump immigration policy whit...</td>\n",
              "      <td>defending us president joe bidens administrati...</td>\n",
              "      <td>world</td>\n",
              "    </tr>\n",
              "    <tr>\n",
              "      <th>72</th>\n",
              "      <td>royal different people imagine meghan</td>\n",
              "      <td>britains duchess sussex meghan markle said roy...</td>\n",
              "      <td>world</td>\n",
              "    </tr>\n",
              "    <tr>\n",
              "      <th>73</th>\n",
              "      <td>aus broadcaster suspends chinas cgtn cctv huma...</td>\n",
              "      <td>australias public broadcaster sbs said wouldnt...</td>\n",
              "      <td>world</td>\n",
              "    </tr>\n",
              "    <tr>\n",
              "      <th>74</th>\n",
              "      <td>direct attack democracy us chinas move alter h...</td>\n",
              "      <td>us condemned chinas continuing assault democra...</td>\n",
              "      <td>world</td>\n",
              "    </tr>\n",
              "  </tbody>\n",
              "</table>\n",
              "<p>75 rows × 3 columns</p>\n",
              "</div>"
            ],
            "text/plain": [
              "                                        news_headline  ... news_category\n",
              "0   assam cm contest polls majuli himanta biswa fi...  ...      politics\n",
              "1   bjp names exbengal minister suvendu nandigram ...  ...      politics\n",
              "2   tmc leader denied poll ticket supporters torch...  ...      politics\n",
              "3   former tmc mp dinesh trivedi joins bjp ahead w...  ...      politics\n",
              "4   aiadmk allots tamil nadu assembly seats kanyak...  ...      politics\n",
              "..                                                ...  ...           ...\n",
              "70  treasury yields signal recovery not inflation ...  ...         world\n",
              "71  dont take advice trump immigration policy whit...  ...         world\n",
              "72              royal different people imagine meghan  ...         world\n",
              "73  aus broadcaster suspends chinas cgtn cctv huma...  ...         world\n",
              "74  direct attack democracy us chinas move alter h...  ...         world\n",
              "\n",
              "[75 rows x 3 columns]"
            ]
          },
          "metadata": {
            "tags": []
          },
          "execution_count": 217
        }
      ]
    },
    {
      "cell_type": "code",
      "metadata": {
        "colab": {
          "base_uri": "https://localhost:8080/",
          "height": 195
        },
        "id": "QfKORggmbBCt",
        "outputId": "d93af8de-e6ea-4eff-95c8-6700a4ad9160"
      },
      "source": [
        "df.news_article = df.news_article.apply(stemming)\r\n",
        "df.news_headline = df.news_headline.apply(stemming)\r\n",
        "df.head()\r\n"
      ],
      "execution_count": null,
      "outputs": [
        {
          "output_type": "execute_result",
          "data": {
            "text/html": [
              "<div>\n",
              "<style scoped>\n",
              "    .dataframe tbody tr th:only-of-type {\n",
              "        vertical-align: middle;\n",
              "    }\n",
              "\n",
              "    .dataframe tbody tr th {\n",
              "        vertical-align: top;\n",
              "    }\n",
              "\n",
              "    .dataframe thead th {\n",
              "        text-align: right;\n",
              "    }\n",
              "</style>\n",
              "<table border=\"1\" class=\"dataframe\">\n",
              "  <thead>\n",
              "    <tr style=\"text-align: right;\">\n",
              "      <th></th>\n",
              "      <th>news_headline</th>\n",
              "      <th>news_article</th>\n",
              "      <th>news_category</th>\n",
              "    </tr>\n",
              "  </thead>\n",
              "  <tbody>\n",
              "    <tr>\n",
              "      <th>0</th>\n",
              "      <td>assam cm contest polls majuli himanta biswa fi...</td>\n",
              "      <td>bjp friday released list candidates upcoming t...</td>\n",
              "      <td>politics</td>\n",
              "    </tr>\n",
              "    <tr>\n",
              "      <th>1</th>\n",
              "      <td>bjp names exbengal minister suvendu nandigram ...</td>\n",
              "      <td>former west bengal minister tmc leader suvendu...</td>\n",
              "      <td>politics</td>\n",
              "    </tr>\n",
              "    <tr>\n",
              "      <th>2</th>\n",
              "      <td>tmc leader denied poll ticket supporters torch...</td>\n",
              "      <td>supporters trinamool congress tmc leader arabu...</td>\n",
              "      <td>politics</td>\n",
              "    </tr>\n",
              "    <tr>\n",
              "      <th>3</th>\n",
              "      <td>former tmc mp dinesh trivedi joins bjp ahead w...</td>\n",
              "      <td>former railway minister dinesh trivedi resigne...</td>\n",
              "      <td>politics</td>\n",
              "    </tr>\n",
              "    <tr>\n",
              "      <th>4</th>\n",
              "      <td>aiadmk allots tamil nadu assembly seats kanyak...</td>\n",
              "      <td>tamil nadus ruling party india anna dravida mu...</td>\n",
              "      <td>politics</td>\n",
              "    </tr>\n",
              "  </tbody>\n",
              "</table>\n",
              "</div>"
            ],
            "text/plain": [
              "                                       news_headline  ... news_category\n",
              "0  assam cm contest polls majuli himanta biswa fi...  ...      politics\n",
              "1  bjp names exbengal minister suvendu nandigram ...  ...      politics\n",
              "2  tmc leader denied poll ticket supporters torch...  ...      politics\n",
              "3  former tmc mp dinesh trivedi joins bjp ahead w...  ...      politics\n",
              "4  aiadmk allots tamil nadu assembly seats kanyak...  ...      politics\n",
              "\n",
              "[5 rows x 3 columns]"
            ]
          },
          "metadata": {
            "tags": []
          },
          "execution_count": 218
        }
      ]
    },
    {
      "cell_type": "markdown",
      "metadata": {
        "id": "WWNg61ZaAia8"
      },
      "source": [
        "APPROACH TO SENTIMENT ANALYSIS"
      ]
    },
    {
      "cell_type": "code",
      "metadata": {
        "id": "ZEKAeUIuQiiu"
      },
      "source": [
        "df['compound'] = df['news_article'].apply(lambda x: vs.polarity_scores(x)['compound'])"
      ],
      "execution_count": null,
      "outputs": []
    },
    {
      "cell_type": "code",
      "metadata": {
        "colab": {
          "base_uri": "https://localhost:8080/",
          "height": 402
        },
        "id": "Xzf9yFlPUnTd",
        "outputId": "2cdfb566-a31e-4a4d-ca7f-3a162f2f686e"
      },
      "source": [
        "df\r\n",
        "#postitive statement - compound > 0.05\r\n",
        "#neutral statement - compoung > -0.05 and compound < 0.05\r\n",
        "#negative statement - compound <= -0.05"
      ],
      "execution_count": null,
      "outputs": [
        {
          "output_type": "execute_result",
          "data": {
            "text/html": [
              "<div>\n",
              "<style scoped>\n",
              "    .dataframe tbody tr th:only-of-type {\n",
              "        vertical-align: middle;\n",
              "    }\n",
              "\n",
              "    .dataframe tbody tr th {\n",
              "        vertical-align: top;\n",
              "    }\n",
              "\n",
              "    .dataframe thead th {\n",
              "        text-align: right;\n",
              "    }\n",
              "</style>\n",
              "<table border=\"1\" class=\"dataframe\">\n",
              "  <thead>\n",
              "    <tr style=\"text-align: right;\">\n",
              "      <th></th>\n",
              "      <th>news_headline</th>\n",
              "      <th>news_article</th>\n",
              "      <th>news_category</th>\n",
              "      <th>compound</th>\n",
              "    </tr>\n",
              "  </thead>\n",
              "  <tbody>\n",
              "    <tr>\n",
              "      <th>0</th>\n",
              "      <td>assam cm contest polls majuli himanta biswa fi...</td>\n",
              "      <td>bjp friday released list candidates upcoming t...</td>\n",
              "      <td>politics</td>\n",
              "      <td>1.0000</td>\n",
              "    </tr>\n",
              "    <tr>\n",
              "      <th>1</th>\n",
              "      <td>bjp names exbengal minister suvendu nandigram ...</td>\n",
              "      <td>former west bengal minister tmc leader suvendu...</td>\n",
              "      <td>politics</td>\n",
              "      <td>0.9915</td>\n",
              "    </tr>\n",
              "    <tr>\n",
              "      <th>2</th>\n",
              "      <td>tmc leader denied poll ticket supporters torch...</td>\n",
              "      <td>supporters trinamool congress tmc leader arabu...</td>\n",
              "      <td>politics</td>\n",
              "      <td>1.0000</td>\n",
              "    </tr>\n",
              "    <tr>\n",
              "      <th>3</th>\n",
              "      <td>former tmc mp dinesh trivedi joins bjp ahead w...</td>\n",
              "      <td>former railway minister dinesh trivedi resigne...</td>\n",
              "      <td>politics</td>\n",
              "      <td>1.0000</td>\n",
              "    </tr>\n",
              "    <tr>\n",
              "      <th>4</th>\n",
              "      <td>aiadmk allots tamil nadu assembly seats kanyak...</td>\n",
              "      <td>tamil nadus ruling party india anna dravida mu...</td>\n",
              "      <td>politics</td>\n",
              "      <td>1.0000</td>\n",
              "    </tr>\n",
              "    <tr>\n",
              "      <th>...</th>\n",
              "      <td>...</td>\n",
              "      <td>...</td>\n",
              "      <td>...</td>\n",
              "      <td>...</td>\n",
              "    </tr>\n",
              "    <tr>\n",
              "      <th>70</th>\n",
              "      <td>treasury yields signal recovery not inflation ...</td>\n",
              "      <td>us treasury secretary former fed chair janet y...</td>\n",
              "      <td>world</td>\n",
              "      <td>1.0000</td>\n",
              "    </tr>\n",
              "    <tr>\n",
              "      <th>71</th>\n",
              "      <td>dont take advice trump immigration policy whit...</td>\n",
              "      <td>defending us president joe bidens administrati...</td>\n",
              "      <td>world</td>\n",
              "      <td>0.9924</td>\n",
              "    </tr>\n",
              "    <tr>\n",
              "      <th>72</th>\n",
              "      <td>royal different people imagine meghan royal di...</td>\n",
              "      <td>britains duchess sussex meghan markle said roy...</td>\n",
              "      <td>world</td>\n",
              "      <td>-1.0000</td>\n",
              "    </tr>\n",
              "    <tr>\n",
              "      <th>73</th>\n",
              "      <td>aus broadcaster suspends chinas cgtn cctv huma...</td>\n",
              "      <td>australias public broadcaster sbs said wouldnt...</td>\n",
              "      <td>world</td>\n",
              "      <td>-1.0000</td>\n",
              "    </tr>\n",
              "    <tr>\n",
              "      <th>74</th>\n",
              "      <td>direct attack democracy us chinas move alter h...</td>\n",
              "      <td>us condemned chinas continuing assault democra...</td>\n",
              "      <td>world</td>\n",
              "      <td>-1.0000</td>\n",
              "    </tr>\n",
              "  </tbody>\n",
              "</table>\n",
              "<p>75 rows × 4 columns</p>\n",
              "</div>"
            ],
            "text/plain": [
              "                                        news_headline  ... compound\n",
              "0   assam cm contest polls majuli himanta biswa fi...  ...   1.0000\n",
              "1   bjp names exbengal minister suvendu nandigram ...  ...   0.9915\n",
              "2   tmc leader denied poll ticket supporters torch...  ...   1.0000\n",
              "3   former tmc mp dinesh trivedi joins bjp ahead w...  ...   1.0000\n",
              "4   aiadmk allots tamil nadu assembly seats kanyak...  ...   1.0000\n",
              "..                                                ...  ...      ...\n",
              "70  treasury yields signal recovery not inflation ...  ...   1.0000\n",
              "71  dont take advice trump immigration policy whit...  ...   0.9924\n",
              "72  royal different people imagine meghan royal di...  ...  -1.0000\n",
              "73  aus broadcaster suspends chinas cgtn cctv huma...  ...  -1.0000\n",
              "74  direct attack democracy us chinas move alter h...  ...  -1.0000\n",
              "\n",
              "[75 rows x 4 columns]"
            ]
          },
          "metadata": {
            "tags": []
          },
          "execution_count": 221
        }
      ]
    },
    {
      "cell_type": "code",
      "metadata": {
        "id": "e1fWlKKBXIeS"
      },
      "source": [
        "df['Sentiment'] = df['compound'].apply(lambda x: 'Positive' if x >0.05  else ( 'Neutral' if x >-0.05 and x<0.05 else 'Negative'))"
      ],
      "execution_count": null,
      "outputs": []
    },
    {
      "cell_type": "code",
      "metadata": {
        "colab": {
          "base_uri": "https://localhost:8080/",
          "height": 402
        },
        "id": "UQkY7th-YAMz",
        "outputId": "889d4179-df74-4125-cd31-8a62b5a66cb0"
      },
      "source": [
        "df "
      ],
      "execution_count": null,
      "outputs": [
        {
          "output_type": "execute_result",
          "data": {
            "text/html": [
              "<div>\n",
              "<style scoped>\n",
              "    .dataframe tbody tr th:only-of-type {\n",
              "        vertical-align: middle;\n",
              "    }\n",
              "\n",
              "    .dataframe tbody tr th {\n",
              "        vertical-align: top;\n",
              "    }\n",
              "\n",
              "    .dataframe thead th {\n",
              "        text-align: right;\n",
              "    }\n",
              "</style>\n",
              "<table border=\"1\" class=\"dataframe\">\n",
              "  <thead>\n",
              "    <tr style=\"text-align: right;\">\n",
              "      <th></th>\n",
              "      <th>news_headline</th>\n",
              "      <th>news_article</th>\n",
              "      <th>news_category</th>\n",
              "      <th>compound</th>\n",
              "      <th>Sentiment</th>\n",
              "    </tr>\n",
              "  </thead>\n",
              "  <tbody>\n",
              "    <tr>\n",
              "      <th>0</th>\n",
              "      <td>assam cm contest polls majuli himanta biswa fi...</td>\n",
              "      <td>bjp friday released list candidates upcoming t...</td>\n",
              "      <td>politics</td>\n",
              "      <td>1.0000</td>\n",
              "      <td>Positive</td>\n",
              "    </tr>\n",
              "    <tr>\n",
              "      <th>1</th>\n",
              "      <td>bjp names exbengal minister suvendu nandigram ...</td>\n",
              "      <td>former west bengal minister tmc leader suvendu...</td>\n",
              "      <td>politics</td>\n",
              "      <td>0.9915</td>\n",
              "      <td>Positive</td>\n",
              "    </tr>\n",
              "    <tr>\n",
              "      <th>2</th>\n",
              "      <td>tmc leader denied poll ticket supporters torch...</td>\n",
              "      <td>supporters trinamool congress tmc leader arabu...</td>\n",
              "      <td>politics</td>\n",
              "      <td>1.0000</td>\n",
              "      <td>Positive</td>\n",
              "    </tr>\n",
              "    <tr>\n",
              "      <th>3</th>\n",
              "      <td>former tmc mp dinesh trivedi joins bjp ahead w...</td>\n",
              "      <td>former railway minister dinesh trivedi resigne...</td>\n",
              "      <td>politics</td>\n",
              "      <td>1.0000</td>\n",
              "      <td>Positive</td>\n",
              "    </tr>\n",
              "    <tr>\n",
              "      <th>4</th>\n",
              "      <td>aiadmk allots tamil nadu assembly seats kanyak...</td>\n",
              "      <td>tamil nadus ruling party india anna dravida mu...</td>\n",
              "      <td>politics</td>\n",
              "      <td>1.0000</td>\n",
              "      <td>Positive</td>\n",
              "    </tr>\n",
              "    <tr>\n",
              "      <th>...</th>\n",
              "      <td>...</td>\n",
              "      <td>...</td>\n",
              "      <td>...</td>\n",
              "      <td>...</td>\n",
              "      <td>...</td>\n",
              "    </tr>\n",
              "    <tr>\n",
              "      <th>70</th>\n",
              "      <td>treasury yields signal recovery not inflation ...</td>\n",
              "      <td>us treasury secretary former fed chair janet y...</td>\n",
              "      <td>world</td>\n",
              "      <td>1.0000</td>\n",
              "      <td>Positive</td>\n",
              "    </tr>\n",
              "    <tr>\n",
              "      <th>71</th>\n",
              "      <td>dont take advice trump immigration policy whit...</td>\n",
              "      <td>defending us president joe bidens administrati...</td>\n",
              "      <td>world</td>\n",
              "      <td>0.9924</td>\n",
              "      <td>Positive</td>\n",
              "    </tr>\n",
              "    <tr>\n",
              "      <th>72</th>\n",
              "      <td>royal different people imagine meghan royal di...</td>\n",
              "      <td>britains duchess sussex meghan markle said roy...</td>\n",
              "      <td>world</td>\n",
              "      <td>-1.0000</td>\n",
              "      <td>Negative</td>\n",
              "    </tr>\n",
              "    <tr>\n",
              "      <th>73</th>\n",
              "      <td>aus broadcaster suspends chinas cgtn cctv huma...</td>\n",
              "      <td>australias public broadcaster sbs said wouldnt...</td>\n",
              "      <td>world</td>\n",
              "      <td>-1.0000</td>\n",
              "      <td>Negative</td>\n",
              "    </tr>\n",
              "    <tr>\n",
              "      <th>74</th>\n",
              "      <td>direct attack democracy us chinas move alter h...</td>\n",
              "      <td>us condemned chinas continuing assault democra...</td>\n",
              "      <td>world</td>\n",
              "      <td>-1.0000</td>\n",
              "      <td>Negative</td>\n",
              "    </tr>\n",
              "  </tbody>\n",
              "</table>\n",
              "<p>75 rows × 5 columns</p>\n",
              "</div>"
            ],
            "text/plain": [
              "                                        news_headline  ... Sentiment\n",
              "0   assam cm contest polls majuli himanta biswa fi...  ...  Positive\n",
              "1   bjp names exbengal minister suvendu nandigram ...  ...  Positive\n",
              "2   tmc leader denied poll ticket supporters torch...  ...  Positive\n",
              "3   former tmc mp dinesh trivedi joins bjp ahead w...  ...  Positive\n",
              "4   aiadmk allots tamil nadu assembly seats kanyak...  ...  Positive\n",
              "..                                                ...  ...       ...\n",
              "70  treasury yields signal recovery not inflation ...  ...  Positive\n",
              "71  dont take advice trump immigration policy whit...  ...  Positive\n",
              "72  royal different people imagine meghan royal di...  ...  Negative\n",
              "73  aus broadcaster suspends chinas cgtn cctv huma...  ...  Negative\n",
              "74  direct attack democracy us chinas move alter h...  ...  Negative\n",
              "\n",
              "[75 rows x 5 columns]"
            ]
          },
          "metadata": {
            "tags": []
          },
          "execution_count": 285
        }
      ]
    },
    {
      "cell_type": "code",
      "metadata": {
        "id": "8s4IdcIQachG"
      },
      "source": [
        "data = pd.DataFrame(df[['news_article', 'compound', 'Sentiment']].copy())\r\n",
        "\r\n"
      ],
      "execution_count": null,
      "outputs": []
    },
    {
      "cell_type": "code",
      "metadata": {
        "id": "4esqFgL9nPP9",
        "colab": {
          "base_uri": "https://localhost:8080/"
        },
        "outputId": "58f71f9b-79ac-440b-d18c-87b0b6e840ad"
      },
      "source": [
        "vs.polarity_scores(\"It is not good enough\")"
      ],
      "execution_count": 287,
      "outputs": [
        {
          "output_type": "execute_result",
          "data": {
            "text/plain": [
              "{'compound': -0.3412, 'neg': 0.376, 'neu': 0.624, 'pos': 0.0}"
            ]
          },
          "metadata": {
            "tags": []
          },
          "execution_count": 287
        }
      ]
    },
    {
      "cell_type": "code",
      "metadata": {
        "id": "o73gIsLMsakK"
      },
      "source": [
        ""
      ],
      "execution_count": null,
      "outputs": []
    }
  ]
}